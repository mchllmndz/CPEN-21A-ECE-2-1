{
  "nbformat": 4,
  "nbformat_minor": 0,
  "metadata": {
    "colab": {
      "name": "Demo01",
      "provenance": [],
      "authorship_tag": "ABX9TyN3gZqprQRQsgyUvNLdKka/",
      "include_colab_link": true
    },
    "kernelspec": {
      "name": "python3",
      "display_name": "Python 3"
    },
    "language_info": {
      "name": "python"
    }
  },
  "cells": [
    {
      "cell_type": "markdown",
      "metadata": {
        "id": "view-in-github",
        "colab_type": "text"
      },
      "source": [
        "<a href=\"https://colab.research.google.com/github/mchllmndz/CPEN-21A-ECE-2-1/blob/main/Demo01.ipynb\" target=\"_parent\"><img src=\"https://colab.research.google.com/assets/colab-badge.svg\" alt=\"Open In Colab\"/></a>"
      ]
    },
    {
      "cell_type": "markdown",
      "metadata": {
        "id": "x5hb00f3LJAs"
      },
      "source": [
        "# Intro to Python"
      ]
    },
    {
      "cell_type": "code",
      "metadata": {
        "id": "iNBNGa1uLM2n"
      },
      "source": [
        "#Phyton Indention\n",
        "if 5>2: \n",
        "  print (\"five is greater than two\")"
      ],
      "execution_count": null,
      "outputs": []
    },
    {
      "cell_type": "markdown",
      "metadata": {
        "id": "jxr5vym0MgfC"
      },
      "source": [
        "Five is greater than two"
      ]
    },
    {
      "cell_type": "markdown",
      "metadata": {
        "id": "McfJL3s2Mk0j"
      },
      "source": [
        "#Python Variable"
      ]
    },
    {
      "cell_type": "code",
      "metadata": {
        "id": "N9f6grHPMoJC"
      },
      "source": [
        "x=1\n",
        "a,b=0,1\n",
        "a,b,c=\"zero\",\"one\",\"two\"\n",
        "print (x)\n",
        "print (a)\n",
        "print (b)\n",
        "print (c)"
      ],
      "execution_count": null,
      "outputs": []
    },
    {
      "cell_type": "markdown",
      "metadata": {
        "id": "SrQBUTRkM44D"
      },
      "source": [
        "1\n",
        "\n",
        "zero\n",
        "\n",
        "one\n",
        "\n",
        "two"
      ]
    },
    {
      "cell_type": "code",
      "metadata": {
        "id": "OglSn9VyM8NC"
      },
      "source": [
        "d=\"Sally\" #This is = string\n",
        "D=\"Ana\"\n",
        "print (d)\n",
        "e=\"John\"\n",
        "print (e)\n",
        "print (D)"
      ],
      "execution_count": null,
      "outputs": []
    },
    {
      "cell_type": "markdown",
      "metadata": {
        "id": "ZiHGfismNR5L"
      },
      "source": [
        "Sally\n",
        "\n",
        "John\n",
        "\n",
        "Ana\n"
      ]
    },
    {
      "cell_type": "code",
      "metadata": {
        "id": "9aomNDXmNWNT"
      },
      "source": [
        "print (type(d)) #This is Type function\n",
        "print (type(x))"
      ],
      "execution_count": null,
      "outputs": []
    },
    {
      "cell_type": "markdown",
      "metadata": {
        "id": "UFZwNbsVNlns"
      },
      "source": [
        "<class 'str'>\n",
        "\n",
        "<class 'int'>"
      ]
    },
    {
      "cell_type": "markdown",
      "metadata": {
        "id": "nBv8tHVcNrRU"
      },
      "source": [
        "#Casting"
      ]
    },
    {
      "cell_type": "markdown",
      "metadata": {
        "id": "wbBQLdY9NuHL"
      },
      "source": [
        "In [13]:"
      ]
    },
    {
      "cell_type": "code",
      "metadata": {
        "id": "T4TarnelN6Sr"
      },
      "source": [
        "f = float (4)\n",
        "print (f)\n",
        "g = int (5)\n",
        "print (g)"
      ],
      "execution_count": null,
      "outputs": []
    },
    {
      "cell_type": "markdown",
      "metadata": {
        "id": "0rueu4EHOCy0"
      },
      "source": [
        "4.0\n",
        "\n",
        "5"
      ]
    },
    {
      "cell_type": "markdown",
      "metadata": {
        "id": "L3BSvytIOE1L"
      },
      "source": [
        "#Multiple Variables with One Value"
      ]
    },
    {
      "cell_type": "markdown",
      "metadata": {
        "id": "5EQ2IkAZOKJb"
      },
      "source": [
        "In [21]:"
      ]
    },
    {
      "cell_type": "code",
      "metadata": {
        "id": "-LzD_oUAOM77"
      },
      "source": [
        "x=y=z=\"four\"\n",
        "print (x)\n",
        "print (y)\n",
        "print (z)"
      ],
      "execution_count": null,
      "outputs": []
    },
    {
      "cell_type": "markdown",
      "metadata": {
        "id": "vSMUuZNlOT2F"
      },
      "source": [
        "four\n",
        "\n",
        "four\n",
        "\n",
        "four"
      ]
    },
    {
      "cell_type": "code",
      "metadata": {
        "id": "NIiKVKNaOXN0"
      },
      "source": [
        "In [22]:"
      ],
      "execution_count": null,
      "outputs": []
    },
    {
      "cell_type": "code",
      "metadata": {
        "id": "3N3sQhJNOZo8"
      },
      "source": [
        "x=\"enjoying\"\n",
        "print (\"Python Programming is \" \" \") + x)"
      ],
      "execution_count": null,
      "outputs": []
    },
    {
      "cell_type": "markdown",
      "metadata": {
        "id": "kovMlyFROlu8"
      },
      "source": [
        "Pyhton Programming is enjoying"
      ]
    },
    {
      "cell_type": "markdown",
      "metadata": {
        "id": "6WhDRv_vOp-E"
      },
      "source": [
        "#Operation in Python"
      ]
    },
    {
      "cell_type": "markdown",
      "metadata": {
        "id": "tMizUbdQOuDV"
      },
      "source": [
        "In [46]"
      ]
    },
    {
      "cell_type": "code",
      "metadata": {
        "id": "tFCtQ3wpOx68"
      },
      "source": [
        "x=5\n",
        "y=7\n",
        "print (x+y)\n",
        "print (x*y)\n",
        "print (x)"
      ],
      "execution_count": null,
      "outputs": []
    },
    {
      "cell_type": "markdown",
      "metadata": {
        "id": "R-8dYohqO7Ms"
      },
      "source": [
        "12\n",
        "\n",
        "35\n",
        "\n",
        "5"
      ]
    }
  ]
}