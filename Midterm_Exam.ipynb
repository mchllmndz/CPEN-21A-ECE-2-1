{
  "nbformat": 4,
  "nbformat_minor": 0,
  "metadata": {
    "colab": {
      "name": "Midterm Exam.ipynb",
      "provenance": [],
      "authorship_tag": "ABX9TyPu1vJMS17N5AOPk3HDqx6c",
      "include_colab_link": true
    },
    "kernelspec": {
      "name": "python3",
      "display_name": "Python 3"
    },
    "language_info": {
      "name": "python"
    }
  },
  "cells": [
    {
      "cell_type": "markdown",
      "metadata": {
        "id": "view-in-github",
        "colab_type": "text"
      },
      "source": [
        "<a href=\"https://colab.research.google.com/github/mchllmndz/CPEN-21A-ECE-2-1/blob/main/Midterm_Exam.ipynb\" target=\"_parent\"><img src=\"https://colab.research.google.com/assets/colab-badge.svg\" alt=\"Open In Colab\"/></a>"
      ]
    },
    {
      "cell_type": "markdown",
      "metadata": {
        "id": "1IbUZ-bd4sRU"
      },
      "source": [
        "###Midterm Exam"
      ]
    },
    {
      "cell_type": "markdown",
      "metadata": {
        "id": "ud9TxeaM6q_l"
      },
      "source": [
        "#Problem Statement 1"
      ]
    },
    {
      "cell_type": "code",
      "metadata": {
        "colab": {
          "base_uri": "https://localhost:8080/"
        },
        "id": "0UkD-goV4ywL",
        "outputId": "1ea058ee-6b07-4eb9-941a-62055e5ea71a"
      },
      "source": [
        "a= \"Michelle Emmalyn B. Mendoza\"\n",
        "b= \"202013900\"\n",
        "c= \"19 years old\"\n",
        "d= \"April 29, 2002\"\n",
        "e= \"Section 7 Block 2 Lot 12, Sunny Brooke 1, Brgy. San Francisco, General Trias Cavite\"\n",
        "f= \"Bachelor of Science in Electronics and Communications Engineering\"\n",
        "g= \"1.58\"\n",
        "\n",
        "print(a)\n",
        "print(b)\n",
        "print(c)\n",
        "print(d)\n",
        "print(e)\n",
        "print(f)\n",
        "print(g)"
      ],
      "execution_count": 1,
      "outputs": [
        {
          "output_type": "stream",
          "name": "stdout",
          "text": [
            "Michelle Emmalyn B. Mendoza\n",
            "202013900\n",
            "19 years old\n",
            "April 29, 2002\n",
            "Section 7 Block 2 Lot 12, Sunny Brooke 1, Brgy. San Francisco, General Trias Cavite\n",
            "Bachelor of Science in Electronics and Communications Engineering\n",
            "1.58\n"
          ]
        }
      ]
    },
    {
      "cell_type": "markdown",
      "metadata": {
        "id": "PPyQA2vU7F3j"
      },
      "source": [
        "###Problem Statement 2"
      ]
    },
    {
      "cell_type": "code",
      "metadata": {
        "colab": {
          "base_uri": "https://localhost:8080/"
        },
        "id": "NRTmx2ji7JwL",
        "outputId": "1ebd9014-227c-4d0e-bee2-2cd75cd20937"
      },
      "source": [
        "n=4\n",
        "answ=\"Y\"\n",
        "\n",
        "print(2<n) and (n<6) #a\n",
        "print(2<n) or (n==6) #b\n",
        "print(not(2<n) or (n==6)) #c\n",
        "print(not(n<6)) #d\n",
        "print((answ==\"Y\")) or ((answ==\"y\")) #e\n",
        "print((answ==\"Y\")) and (answ==\"y\") #f\n",
        "print(not(answ==\"y\")) #g\n",
        "print((n==2)) and ((n==5+1)) or ((answ==\"No\")) #h\n",
        "print((n==2) and (n==7)) or (answ==\"Y\") #i\n",
        "print(n==2) and ((n==7) or (answ==\"Y\")) #j"
      ],
      "execution_count": 46,
      "outputs": [
        {
          "output_type": "stream",
          "name": "stdout",
          "text": [
            "True\n",
            "True\n",
            "False\n",
            "False\n",
            "True\n",
            "True\n",
            "True\n",
            "False\n",
            "False\n",
            "False\n"
          ]
        }
      ]
    },
    {
      "cell_type": "markdown",
      "metadata": {
        "id": "OSybugij7MyD"
      },
      "source": [
        "###Problem Statement 3"
      ]
    },
    {
      "cell_type": "code",
      "metadata": {
        "colab": {
          "base_uri": "https://localhost:8080/"
        },
        "id": "fin7yisr7RFK",
        "outputId": "30ffbbb7-f91d-484e-8ca8-df1e79adfe5a"
      },
      "source": [
        "x=2\n",
        "y=-3\n",
        "w=7\n",
        "z=-10\n",
        "\n",
        "print(x/y)\n",
        "print(w/y/x)\n",
        "print(z/y%x)\n",
        "print(x%-y*w)\n",
        "print(x%y)\n",
        "print(z%w-y/x*5+5)\n",
        "print(9-x%(2+y))\n",
        "print(z//w)\n",
        "print((2+y)**2)\n",
        "print(w/x*2)"
      ],
      "execution_count": 6,
      "outputs": [
        {
          "output_type": "stream",
          "name": "stdout",
          "text": [
            "-0.6666666666666666\n",
            "-1.1666666666666667\n",
            "1.3333333333333335\n",
            "14\n",
            "-1\n",
            "16.5\n",
            "9\n",
            "-2\n",
            "1\n",
            "7.0\n"
          ]
        }
      ]
    }
  ]
}