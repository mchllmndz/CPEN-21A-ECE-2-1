{
  "nbformat": 4,
  "nbformat_minor": 0,
  "metadata": {
    "colab": {
      "name": "Untitled0.ipynb",
      "provenance": [],
      "authorship_tag": "ABX9TyOumuLk351jYyrXf2gg1sZr",
      "include_colab_link": true
    },
    "kernelspec": {
      "name": "python3",
      "display_name": "Python 3"
    },
    "language_info": {
      "name": "python"
    }
  },
  "cells": [
    {
      "cell_type": "markdown",
      "metadata": {
        "id": "view-in-github",
        "colab_type": "text"
      },
      "source": [
        "<a href=\"https://colab.research.google.com/github/mchllmndz/CPEN-21A-ECE-2-1/blob/main/Untitled0.ipynb\" target=\"_parent\"><img src=\"https://colab.research.google.com/assets/colab-badge.svg\" alt=\"Open In Colab\"/></a>"
      ]
    },
    {
      "cell_type": "markdown",
      "metadata": {
        "id": "EXfsL_AfsLYV"
      },
      "source": [
        "#Laboratory 1\n"
      ]
    },
    {
      "cell_type": "code",
      "metadata": {
        "id": "j4P1NTJttpHi"
      },
      "source": [
        "x=\"Welcome to Python Programming\"\n",
        "a=\"Name: Michelle Emmalyn Mendoza\"\n",
        "b=\"Address: Section 7 Block 2 Lot 12, Sunny Brooke 1, Baranggay San Francisco, General Trias Cavite\"\n",
        "c=\"Age: 19 years old\"\n",
        "print(\"x\")\n",
        "print(\"a\")\n",
        "print(\"b\")\n",
        "print(\"c\")"
      ],
      "execution_count": null,
      "outputs": []
    },
    {
      "cell_type": "markdown",
      "metadata": {
        "id": "RqQReec_yoK4"
      },
      "source": [
        "Welcome to Python Programming\n",
        "Name: Michelle Emmalyn Mendoza\n",
        "Address: Section 7 Block 2 Lot 12, Sunny Brooke 1, Baranggay San Francisco, General Trias Cavite\n",
        "Age: 19 years old"
      ]
    }
  ]
}